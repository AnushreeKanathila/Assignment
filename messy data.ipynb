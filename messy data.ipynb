{
 "cells": [
  {
   "cell_type": "code",
   "execution_count": 1,
   "id": "3e4827c0",
   "metadata": {},
   "outputs": [],
   "source": [
    "# loading the libraries\n",
    "\n",
    "import numpy as np\n",
    "import pandas as pd\n",
    "import seaborn as sns\n",
    "import matplotlib.pyplot as plt\n",
    "import warnings\n",
    "warnings.filterwarnings('ignore')"
   ]
  },
  {
   "cell_type": "markdown",
   "id": "7f0e242f",
   "metadata": {},
   "source": [
    "### 1 loading the dataset\n"
   ]
  },
  {
   "cell_type": "code",
   "execution_count": 2,
   "id": "e11fe3ac",
   "metadata": {},
   "outputs": [
    {
     "data": {
      "text/html": [
       "<div>\n",
       "<style scoped>\n",
       "    .dataframe tbody tr th:only-of-type {\n",
       "        vertical-align: middle;\n",
       "    }\n",
       "\n",
       "    .dataframe tbody tr th {\n",
       "        vertical-align: top;\n",
       "    }\n",
       "\n",
       "    .dataframe thead th {\n",
       "        text-align: right;\n",
       "    }\n",
       "</style>\n",
       "<table border=\"1\" class=\"dataframe\">\n",
       "  <thead>\n",
       "    <tr style=\"text-align: right;\">\n",
       "      <th></th>\n",
       "      <th>Unnamed: 0</th>\n",
       "      <th>ID</th>\n",
       "      <th>Name</th>\n",
       "      <th>Age</th>\n",
       "      <th>Email</th>\n",
       "      <th>Join Date</th>\n",
       "      <th>Salary</th>\n",
       "      <th>Department</th>\n",
       "    </tr>\n",
       "  </thead>\n",
       "  <tbody>\n",
       "    <tr>\n",
       "      <th>0</th>\n",
       "      <td>0</td>\n",
       "      <td>1e407ff9-6255-489d-a0de-34135d4f74bd</td>\n",
       "      <td>Hunter Thomas</td>\n",
       "      <td>25.0</td>\n",
       "      <td>xlopez@hotmail.com</td>\n",
       "      <td>NaN</td>\n",
       "      <td>88552.0</td>\n",
       "      <td>Sales</td>\n",
       "    </tr>\n",
       "    <tr>\n",
       "      <th>1</th>\n",
       "      <td>1</td>\n",
       "      <td>379f55b8-87d5-4739-a146-7400b78c24d1</td>\n",
       "      <td>Jeremy Irwin</td>\n",
       "      <td>90.0</td>\n",
       "      <td>Jillian Jenkins</td>\n",
       "      <td>2022-07-07</td>\n",
       "      <td>139227.0</td>\n",
       "      <td>NaN</td>\n",
       "    </tr>\n",
       "    <tr>\n",
       "      <th>2</th>\n",
       "      <td>2</td>\n",
       "      <td>18261368-dfa1-47f0-afc6-bddf45926b07</td>\n",
       "      <td>Jennifer Hammondquickly</td>\n",
       "      <td>66.0</td>\n",
       "      <td>jscottgreen.biz</td>\n",
       "      <td>2023-11-21</td>\n",
       "      <td>65550.0</td>\n",
       "      <td>Engineering</td>\n",
       "    </tr>\n",
       "    <tr>\n",
       "      <th>3</th>\n",
       "      <td>3</td>\n",
       "      <td>ae7cf7cf-17cf-4c8b-9c44-4f61a9a238e5</td>\n",
       "      <td>Sydney Taylorso</td>\n",
       "      <td>39.0</td>\n",
       "      <td>luke56gonzalez.com</td>\n",
       "      <td>2021-11-05</td>\n",
       "      <td>139932.0</td>\n",
       "      <td>SupportJ</td>\n",
       "    </tr>\n",
       "    <tr>\n",
       "      <th>4</th>\n",
       "      <td>4</td>\n",
       "      <td>14ed3e6a-e0f5-4bbe-8d93-8665267f5c90</td>\n",
       "      <td>Julia Lee</td>\n",
       "      <td>71.0</td>\n",
       "      <td>figueroakayla@yahoo.com</td>\n",
       "      <td>NaN</td>\n",
       "      <td>143456.0</td>\n",
       "      <td>Marketing</td>\n",
       "    </tr>\n",
       "  </tbody>\n",
       "</table>\n",
       "</div>"
      ],
      "text/plain": [
       "   Unnamed: 0                                    ID                     Name  \\\n",
       "0           0  1e407ff9-6255-489d-a0de-34135d4f74bd            Hunter Thomas   \n",
       "1           1  379f55b8-87d5-4739-a146-7400b78c24d1             Jeremy Irwin   \n",
       "2           2  18261368-dfa1-47f0-afc6-bddf45926b07  Jennifer Hammondquickly   \n",
       "3           3  ae7cf7cf-17cf-4c8b-9c44-4f61a9a238e5          Sydney Taylorso   \n",
       "4           4  14ed3e6a-e0f5-4bbe-8d93-8665267f5c90                Julia Lee   \n",
       "\n",
       "    Age                    Email   Join Date    Salary   Department  \n",
       "0  25.0       xlopez@hotmail.com         NaN   88552.0        Sales  \n",
       "1  90.0          Jillian Jenkins  2022-07-07  139227.0          NaN  \n",
       "2  66.0          jscottgreen.biz  2023-11-21   65550.0  Engineering  \n",
       "3  39.0       luke56gonzalez.com  2021-11-05  139932.0     SupportJ  \n",
       "4  71.0  figueroakayla@yahoo.com         NaN  143456.0    Marketing  "
      ]
     },
     "execution_count": 2,
     "metadata": {},
     "output_type": "execute_result"
    }
   ],
   "source": [
    "data = pd.read_csv(\"messy data.csv\")\n",
    "data.head()"
   ]
  },
  {
   "cell_type": "code",
   "execution_count": 3,
   "id": "a8440047",
   "metadata": {},
   "outputs": [
    {
     "data": {
      "text/plain": [
       "(11000, 8)"
      ]
     },
     "execution_count": 3,
     "metadata": {},
     "output_type": "execute_result"
    }
   ],
   "source": [
    "# checking the shapes of the data\n",
    "\n",
    "data.shape"
   ]
  },
  {
   "cell_type": "code",
   "execution_count": 4,
   "id": "986dd50f",
   "metadata": {},
   "outputs": [
    {
     "name": "stdout",
     "output_type": "stream",
     "text": [
      "<class 'pandas.core.frame.DataFrame'>\n",
      "RangeIndex: 11000 entries, 0 to 10999\n",
      "Data columns (total 8 columns):\n",
      " #   Column      Non-Null Count  Dtype  \n",
      "---  ------      --------------  -----  \n",
      " 0   Unnamed: 0  11000 non-null  int64  \n",
      " 1   ID          11000 non-null  object \n",
      " 2   Name        8667 non-null   object \n",
      " 3   Age         9253 non-null   float64\n",
      " 4   Email       9731 non-null   object \n",
      " 5   Join Date   8808 non-null   object \n",
      " 6   Salary      8761 non-null   float64\n",
      " 7   Department  8745 non-null   object \n",
      "dtypes: float64(2), int64(1), object(5)\n",
      "memory usage: 687.6+ KB\n"
     ]
    }
   ],
   "source": [
    "# summary of dataset\n",
    "\n",
    "data.info()"
   ]
  },
  {
   "cell_type": "code",
   "execution_count": 5,
   "id": "75de7c68",
   "metadata": {
    "scrolled": true
   },
   "outputs": [
    {
     "data": {
      "text/plain": [
       "Unnamed: 0       0\n",
       "ID               0\n",
       "Name          2333\n",
       "Age           1747\n",
       "Email         1269\n",
       "Join Date     2192\n",
       "Salary        2239\n",
       "Department    2255\n",
       "dtype: int64"
      ]
     },
     "execution_count": 5,
     "metadata": {},
     "output_type": "execute_result"
    }
   ],
   "source": [
    "# Checking the null values\n",
    "\n",
    "data.isnull().sum()"
   ]
  },
  {
   "cell_type": "code",
   "execution_count": 6,
   "id": "8faf4252",
   "metadata": {},
   "outputs": [
    {
     "name": "stdout",
     "output_type": "stream",
     "text": [
      "DataFrame after attempting to drop column:\n",
      "                                         ID                     Name   Age  \\\n",
      "0      1e407ff9-6255-489d-a0de-34135d4f74bd            Hunter Thomas  25.0   \n",
      "1      379f55b8-87d5-4739-a146-7400b78c24d1             Jeremy Irwin  90.0   \n",
      "2      18261368-dfa1-47f0-afc6-bddf45926b07  Jennifer Hammondquickly  66.0   \n",
      "3      ae7cf7cf-17cf-4c8b-9c44-4f61a9a238e5          Sydney Taylorso  39.0   \n",
      "4      14ed3e6a-e0f5-4bbe-8d93-8665267f5c90                Julia Lee  71.0   \n",
      "...                                     ...                      ...   ...   \n",
      "10995  07c223be-03e6-4f70-a2b5-86df778cc61a                      NaN   NaN   \n",
      "10996  da8a6bbc-5026-4630-848d-f64e80dac56c         Steven Armstrong  38.0   \n",
      "10997  ed19c966-d6d8-4047-b410-b6e595a39340       Stephanie Riossell   NaN   \n",
      "10998  783b36b4-d09f-46c9-8a52-7ff96b80863e           Bonnie Benitez  37.0   \n",
      "10999  fc25a38a-5747-46eb-b6d3-7173f8255809           Caroline Ochoa  53.0   \n",
      "\n",
      "                           Email   Join Date         Salary   Department  \n",
      "0             xlopez@hotmail.com         NaN   88552.000000        Sales  \n",
      "1                Jillian Jenkins  2022-07-07  139227.000000          NaN  \n",
      "2                jscottgreen.biz  2023-11-21   65550.000000  Engineering  \n",
      "3             luke56gonzalez.com  2021-11-05  139932.000000     SupportJ  \n",
      "4        figueroakayla@yahoo.com         NaN  143456.000000    Marketing  \n",
      "...                          ...         ...            ...          ...  \n",
      "10995                        NaN         NaN            NaN          NaN  \n",
      "10996           molly89gmail.com  2021-06-24            NaN        Sales  \n",
      "10997  robert96@pollard-frye.com  15/08/2006  122609.594149           HR  \n",
      "10998         roypark@warren.net  2020-10-09  147322.005171      Support  \n",
      "10999          cdavis@hodges.com  2023-08-10  149224.000000      Support  \n",
      "\n",
      "[11000 rows x 7 columns]\n"
     ]
    }
   ],
   "source": [
    "column_to_drop = 'Unnamed: 0'\n",
    "\n",
    "# Check if the column exists before dropping it\n",
    "if column_to_drop in data.columns:\n",
    "    data = data.drop(column_to_drop, axis=1)\n",
    "else:\n",
    "    print(f\"Column '{column_to_drop}' not found in DataFrame\")\n",
    "\n",
    "print(\"DataFrame after attempting to drop column:\")\n",
    "print(data)"
   ]
  },
  {
   "cell_type": "code",
   "execution_count": 7,
   "id": "6e578522",
   "metadata": {},
   "outputs": [
    {
     "data": {
      "text/html": [
       "<div>\n",
       "<style scoped>\n",
       "    .dataframe tbody tr th:only-of-type {\n",
       "        vertical-align: middle;\n",
       "    }\n",
       "\n",
       "    .dataframe tbody tr th {\n",
       "        vertical-align: top;\n",
       "    }\n",
       "\n",
       "    .dataframe thead th {\n",
       "        text-align: right;\n",
       "    }\n",
       "</style>\n",
       "<table border=\"1\" class=\"dataframe\">\n",
       "  <thead>\n",
       "    <tr style=\"text-align: right;\">\n",
       "      <th></th>\n",
       "      <th>ID</th>\n",
       "      <th>Name</th>\n",
       "      <th>Age</th>\n",
       "      <th>Email</th>\n",
       "      <th>Join Date</th>\n",
       "      <th>Salary</th>\n",
       "      <th>Department</th>\n",
       "    </tr>\n",
       "  </thead>\n",
       "  <tbody>\n",
       "    <tr>\n",
       "      <th>2</th>\n",
       "      <td>18261368-dfa1-47f0-afc6-bddf45926b07</td>\n",
       "      <td>Jennifer Hammondquickly</td>\n",
       "      <td>66.0</td>\n",
       "      <td>jscottgreen.biz</td>\n",
       "      <td>2023-11-21</td>\n",
       "      <td>65550.000000</td>\n",
       "      <td>Engineering</td>\n",
       "    </tr>\n",
       "    <tr>\n",
       "      <th>3</th>\n",
       "      <td>ae7cf7cf-17cf-4c8b-9c44-4f61a9a238e5</td>\n",
       "      <td>Sydney Taylorso</td>\n",
       "      <td>39.0</td>\n",
       "      <td>luke56gonzalez.com</td>\n",
       "      <td>2021-11-05</td>\n",
       "      <td>139932.000000</td>\n",
       "      <td>SupportJ</td>\n",
       "    </tr>\n",
       "    <tr>\n",
       "      <th>5</th>\n",
       "      <td>f92ea13f-24d3-4792-91e4-5b0e07d90c2c</td>\n",
       "      <td>Lisa Bailey</td>\n",
       "      <td>81.0</td>\n",
       "      <td>milleryvonne@fowler-york.com</td>\n",
       "      <td>15/10/2016</td>\n",
       "      <td>123018.000000</td>\n",
       "      <td>SupportE</td>\n",
       "    </tr>\n",
       "    <tr>\n",
       "      <th>6</th>\n",
       "      <td>c4892dbb-2554-4ce1-8f11-f6597d7f6782</td>\n",
       "      <td>Patricia Brown DVM</td>\n",
       "      <td>66.0</td>\n",
       "      <td>pperkinshotmail.com</td>\n",
       "      <td>17/09/2020</td>\n",
       "      <td>77311.000000</td>\n",
       "      <td>HR</td>\n",
       "    </tr>\n",
       "    <tr>\n",
       "      <th>9</th>\n",
       "      <td>d06f507d-62e5-4bd6-a252-4e60e109d324</td>\n",
       "      <td>Jay Fisher</td>\n",
       "      <td>44.0</td>\n",
       "      <td>denisemaynard@jordan.com</td>\n",
       "      <td>2022-12-08</td>\n",
       "      <td>37701.725993</td>\n",
       "      <td>HR</td>\n",
       "    </tr>\n",
       "  </tbody>\n",
       "</table>\n",
       "</div>"
      ],
      "text/plain": [
       "                                     ID                     Name   Age  \\\n",
       "2  18261368-dfa1-47f0-afc6-bddf45926b07  Jennifer Hammondquickly  66.0   \n",
       "3  ae7cf7cf-17cf-4c8b-9c44-4f61a9a238e5          Sydney Taylorso  39.0   \n",
       "5  f92ea13f-24d3-4792-91e4-5b0e07d90c2c              Lisa Bailey  81.0   \n",
       "6  c4892dbb-2554-4ce1-8f11-f6597d7f6782       Patricia Brown DVM  66.0   \n",
       "9  d06f507d-62e5-4bd6-a252-4e60e109d324               Jay Fisher  44.0   \n",
       "\n",
       "                          Email   Join Date         Salary   Department  \n",
       "2               jscottgreen.biz  2023-11-21   65550.000000  Engineering  \n",
       "3            luke56gonzalez.com  2021-11-05  139932.000000     SupportJ  \n",
       "5  milleryvonne@fowler-york.com  15/10/2016  123018.000000     SupportE  \n",
       "6           pperkinshotmail.com  17/09/2020   77311.000000           HR  \n",
       "9      denisemaynard@jordan.com  2022-12-08   37701.725993           HR  "
      ]
     },
     "execution_count": 7,
     "metadata": {},
     "output_type": "execute_result"
    }
   ],
   "source": [
    "columns_to_check = ['Name', 'Age', 'Email', 'Join Date', 'Salary', 'Department']\n",
    "data_cleaned = data.dropna(subset=columns_to_check)\n",
    "data_cleaned.head()"
   ]
  },
  {
   "cell_type": "code",
   "execution_count": 8,
   "id": "d92209d1",
   "metadata": {},
   "outputs": [
    {
     "data": {
      "text/plain": [
       "(6036, 7)"
      ]
     },
     "execution_count": 8,
     "metadata": {},
     "output_type": "execute_result"
    }
   ],
   "source": [
    "data_cleaned.shape"
   ]
  },
  {
   "cell_type": "code",
   "execution_count": 9,
   "id": "4e7f70a6",
   "metadata": {},
   "outputs": [
    {
     "data": {
      "text/plain": [
       "ID            0\n",
       "Name          0\n",
       "Age           0\n",
       "Email         0\n",
       "Join Date     0\n",
       "Salary        0\n",
       "Department    0\n",
       "dtype: int64"
      ]
     },
     "execution_count": 9,
     "metadata": {},
     "output_type": "execute_result"
    }
   ],
   "source": [
    "data_cleaned.isnull().sum()"
   ]
  },
  {
   "cell_type": "code",
   "execution_count": 10,
   "id": "69a8ed77",
   "metadata": {},
   "outputs": [],
   "source": [
    "# Remove Duplicates\n",
    "data_cleaned.drop_duplicates(inplace=True)\n"
   ]
  },
  {
   "cell_type": "code",
   "execution_count": null,
   "id": "42ef5f5d",
   "metadata": {},
   "outputs": [],
   "source": []
  },
  {
   "cell_type": "code",
   "execution_count": 11,
   "id": "63842e55",
   "metadata": {},
   "outputs": [
    {
     "ename": "NameError",
     "evalue": "name 're' is not defined",
     "output_type": "error",
     "traceback": [
      "\u001b[1;31m---------------------------------------------------------------------------\u001b[0m",
      "\u001b[1;31mNameError\u001b[0m                                 Traceback (most recent call last)",
      "Cell \u001b[1;32mIn[11], line 14\u001b[0m\n\u001b[0;32m     10\u001b[0m     \u001b[38;5;28;01mreturn\u001b[39;00m domain \u001b[38;5;129;01mnot\u001b[39;00m \u001b[38;5;129;01min\u001b[39;00m free_providers\n\u001b[0;32m     13\u001b[0m \u001b[38;5;66;03m# Apply the validation and filtering\u001b[39;00m\n\u001b[1;32m---> 14\u001b[0m data_cleaned[\u001b[38;5;124m'\u001b[39m\u001b[38;5;124mvalid_email\u001b[39m\u001b[38;5;124m'\u001b[39m] \u001b[38;5;241m=\u001b[39m \u001b[43mdata_cleaned\u001b[49m\u001b[43m[\u001b[49m\u001b[38;5;124;43m'\u001b[39;49m\u001b[38;5;124;43mEmail\u001b[39;49m\u001b[38;5;124;43m'\u001b[39;49m\u001b[43m]\u001b[49m\u001b[38;5;241;43m.\u001b[39;49m\u001b[43mapply\u001b[49m\u001b[43m(\u001b[49m\u001b[43mis_valid_email\u001b[49m\u001b[43m)\u001b[49m\n\u001b[0;32m     15\u001b[0m data_cleaned[\u001b[38;5;124m'\u001b[39m\u001b[38;5;124mprofessional_email\u001b[39m\u001b[38;5;124m'\u001b[39m] \u001b[38;5;241m=\u001b[39m data_cleaned[\u001b[38;5;124m'\u001b[39m\u001b[38;5;124mEmail\u001b[39m\u001b[38;5;124m'\u001b[39m]\u001b[38;5;241m.\u001b[39mapply(is_professional_email)\n\u001b[0;32m     17\u001b[0m \u001b[38;5;66;03m# Filter out invalid and non-professional emails\u001b[39;00m\n",
      "File \u001b[1;32m~\\Anaconda\\lib\\site-packages\\pandas\\core\\series.py:4771\u001b[0m, in \u001b[0;36mSeries.apply\u001b[1;34m(self, func, convert_dtype, args, **kwargs)\u001b[0m\n\u001b[0;32m   4661\u001b[0m \u001b[38;5;28;01mdef\u001b[39;00m \u001b[38;5;21mapply\u001b[39m(\n\u001b[0;32m   4662\u001b[0m     \u001b[38;5;28mself\u001b[39m,\n\u001b[0;32m   4663\u001b[0m     func: AggFuncType,\n\u001b[1;32m   (...)\u001b[0m\n\u001b[0;32m   4666\u001b[0m     \u001b[38;5;241m*\u001b[39m\u001b[38;5;241m*\u001b[39mkwargs,\n\u001b[0;32m   4667\u001b[0m ) \u001b[38;5;241m-\u001b[39m\u001b[38;5;241m>\u001b[39m DataFrame \u001b[38;5;241m|\u001b[39m Series:\n\u001b[0;32m   4668\u001b[0m     \u001b[38;5;124;03m\"\"\"\u001b[39;00m\n\u001b[0;32m   4669\u001b[0m \u001b[38;5;124;03m    Invoke function on values of Series.\u001b[39;00m\n\u001b[0;32m   4670\u001b[0m \n\u001b[1;32m   (...)\u001b[0m\n\u001b[0;32m   4769\u001b[0m \u001b[38;5;124;03m    dtype: float64\u001b[39;00m\n\u001b[0;32m   4770\u001b[0m \u001b[38;5;124;03m    \"\"\"\u001b[39;00m\n\u001b[1;32m-> 4771\u001b[0m     \u001b[38;5;28;01mreturn\u001b[39;00m \u001b[43mSeriesApply\u001b[49m\u001b[43m(\u001b[49m\u001b[38;5;28;43mself\u001b[39;49m\u001b[43m,\u001b[49m\u001b[43m \u001b[49m\u001b[43mfunc\u001b[49m\u001b[43m,\u001b[49m\u001b[43m \u001b[49m\u001b[43mconvert_dtype\u001b[49m\u001b[43m,\u001b[49m\u001b[43m \u001b[49m\u001b[43margs\u001b[49m\u001b[43m,\u001b[49m\u001b[43m \u001b[49m\u001b[43mkwargs\u001b[49m\u001b[43m)\u001b[49m\u001b[38;5;241;43m.\u001b[39;49m\u001b[43mapply\u001b[49m\u001b[43m(\u001b[49m\u001b[43m)\u001b[49m\n",
      "File \u001b[1;32m~\\Anaconda\\lib\\site-packages\\pandas\\core\\apply.py:1123\u001b[0m, in \u001b[0;36mSeriesApply.apply\u001b[1;34m(self)\u001b[0m\n\u001b[0;32m   1120\u001b[0m     \u001b[38;5;28;01mreturn\u001b[39;00m \u001b[38;5;28mself\u001b[39m\u001b[38;5;241m.\u001b[39mapply_str()\n\u001b[0;32m   1122\u001b[0m \u001b[38;5;66;03m# self.f is Callable\u001b[39;00m\n\u001b[1;32m-> 1123\u001b[0m \u001b[38;5;28;01mreturn\u001b[39;00m \u001b[38;5;28;43mself\u001b[39;49m\u001b[38;5;241;43m.\u001b[39;49m\u001b[43mapply_standard\u001b[49m\u001b[43m(\u001b[49m\u001b[43m)\u001b[49m\n",
      "File \u001b[1;32m~\\Anaconda\\lib\\site-packages\\pandas\\core\\apply.py:1174\u001b[0m, in \u001b[0;36mSeriesApply.apply_standard\u001b[1;34m(self)\u001b[0m\n\u001b[0;32m   1172\u001b[0m     \u001b[38;5;28;01melse\u001b[39;00m:\n\u001b[0;32m   1173\u001b[0m         values \u001b[38;5;241m=\u001b[39m obj\u001b[38;5;241m.\u001b[39mastype(\u001b[38;5;28mobject\u001b[39m)\u001b[38;5;241m.\u001b[39m_values\n\u001b[1;32m-> 1174\u001b[0m         mapped \u001b[38;5;241m=\u001b[39m \u001b[43mlib\u001b[49m\u001b[38;5;241;43m.\u001b[39;49m\u001b[43mmap_infer\u001b[49m\u001b[43m(\u001b[49m\n\u001b[0;32m   1175\u001b[0m \u001b[43m            \u001b[49m\u001b[43mvalues\u001b[49m\u001b[43m,\u001b[49m\n\u001b[0;32m   1176\u001b[0m \u001b[43m            \u001b[49m\u001b[43mf\u001b[49m\u001b[43m,\u001b[49m\n\u001b[0;32m   1177\u001b[0m \u001b[43m            \u001b[49m\u001b[43mconvert\u001b[49m\u001b[38;5;241;43m=\u001b[39;49m\u001b[38;5;28;43mself\u001b[39;49m\u001b[38;5;241;43m.\u001b[39;49m\u001b[43mconvert_dtype\u001b[49m\u001b[43m,\u001b[49m\n\u001b[0;32m   1178\u001b[0m \u001b[43m        \u001b[49m\u001b[43m)\u001b[49m\n\u001b[0;32m   1180\u001b[0m \u001b[38;5;28;01mif\u001b[39;00m \u001b[38;5;28mlen\u001b[39m(mapped) \u001b[38;5;129;01mand\u001b[39;00m \u001b[38;5;28misinstance\u001b[39m(mapped[\u001b[38;5;241m0\u001b[39m], ABCSeries):\n\u001b[0;32m   1181\u001b[0m     \u001b[38;5;66;03m# GH#43986 Need to do list(mapped) in order to get treated as nested\u001b[39;00m\n\u001b[0;32m   1182\u001b[0m     \u001b[38;5;66;03m#  See also GH#25959 regarding EA support\u001b[39;00m\n\u001b[0;32m   1183\u001b[0m     \u001b[38;5;28;01mreturn\u001b[39;00m obj\u001b[38;5;241m.\u001b[39m_constructor_expanddim(\u001b[38;5;28mlist\u001b[39m(mapped), index\u001b[38;5;241m=\u001b[39mobj\u001b[38;5;241m.\u001b[39mindex)\n",
      "File \u001b[1;32m~\\Anaconda\\lib\\site-packages\\pandas\\_libs\\lib.pyx:2924\u001b[0m, in \u001b[0;36mpandas._libs.lib.map_infer\u001b[1;34m()\u001b[0m\n",
      "Cell \u001b[1;32mIn[11], line 4\u001b[0m, in \u001b[0;36mis_valid_email\u001b[1;34m(email)\u001b[0m\n\u001b[0;32m      2\u001b[0m \u001b[38;5;28;01mdef\u001b[39;00m \u001b[38;5;21mis_valid_email\u001b[39m(email):\n\u001b[0;32m      3\u001b[0m     regex \u001b[38;5;241m=\u001b[39m \u001b[38;5;124mr\u001b[39m\u001b[38;5;124m'\u001b[39m\u001b[38;5;124m^[a-zA-Z0-9._\u001b[39m\u001b[38;5;124m%\u001b[39m\u001b[38;5;124m+-]+@[a-zA-Z0-9.-]+\u001b[39m\u001b[38;5;124m\\\u001b[39m\u001b[38;5;124m.[a-zA-Z]\u001b[39m\u001b[38;5;124m{\u001b[39m\u001b[38;5;124m2,}$\u001b[39m\u001b[38;5;124m'\u001b[39m\n\u001b[1;32m----> 4\u001b[0m     \u001b[38;5;28;01mreturn\u001b[39;00m \u001b[43mre\u001b[49m\u001b[38;5;241m.\u001b[39mmatch(regex, email) \u001b[38;5;129;01mis\u001b[39;00m \u001b[38;5;129;01mnot\u001b[39;00m \u001b[38;5;28;01mNone\u001b[39;00m\n",
      "\u001b[1;31mNameError\u001b[0m: name 're' is not defined"
     ]
    }
   ],
   "source": [
    "\n",
    "\n",
    "# Function to validate email formats\n",
    "def is_valid_email(email):\n",
    "    regex = r'^[a-zA-Z0-9._%+-]+@[a-zA-Z0-9.-]+\\.[a-zA-Z]{2,}$'\n",
    "    return re.match(regex, email) is not None\n",
    "\n",
    "# Function to check for professional emails\n",
    "def is_professional_email(email):\n",
    "    free_providers = ['gmail.com', 'yahoo.com', 'hotmail.com', 'outlook.com', 'aol.com']\n",
    "    domain = email.split('@')[-1]\n",
    "    return domain not in free_providers\n",
    "\n",
    "\n",
    "# Apply the validation and filtering\n",
    "data_cleaned['valid_email'] = data_cleaned['Email'].apply(is_valid_email)\n",
    "data_cleaned['professional_email'] = data_cleaned['Email'].apply(is_professional_email)\n",
    "\n",
    "# Filter out invalid and non-professional emails\n",
    "cleaned_df = data_cleaned[data_cleaned['valid_email'] & data_cleaned['professional_email']].drop(columns=['valid_email', 'professional_email'])\n",
    "\n"
   ]
  },
  {
   "cell_type": "code",
   "execution_count": null,
   "id": "11741ddd",
   "metadata": {},
   "outputs": [],
   "source": [
    "# Function to clean names\n",
    "def clean_name(name):\n",
    "    return ' '.join(re.findall(r'[A-Za-z]+', name))\n",
    "\n",
    "# Clean names\n",
    "cleaned_df['Name'] = cleaned_df['Name'].apply(clean_name)\n"
   ]
  },
  {
   "cell_type": "code",
   "execution_count": null,
   "id": "1b862ca2",
   "metadata": {},
   "outputs": [],
   "source": [
    "cleaned_df.head()\n",
    "cleaned_df.info()\n",
    "cleaned_df.shape\n"
   ]
  },
  {
   "cell_type": "code",
   "execution_count": null,
   "id": "3642de0f",
   "metadata": {},
   "outputs": [],
   "source": [
    "# Standardize date format\n",
    "cleaned_df['Join Date'] = pd.to_datetime(cleaned_df['Join Date'], errors='coerce').dt.strftime('%Y-%m-%d')\n",
    "cleaned_df['Join Date'].head()"
   ]
  },
  {
   "cell_type": "code",
   "execution_count": null,
   "id": "fa262053",
   "metadata": {},
   "outputs": [],
   "source": [
    "# Standardize department names\n",
    "departments = {\n",
    "    'HR': 'HR',\n",
    "    'Human Resources': 'HR',\n",
    "    'Engineering': 'Engineering',\n",
    "    'Eng': 'Engineering',\n",
    "    'Marketing': 'Marketing',\n",
    "    'Mktg': 'Marketing',\n",
    "    'Sales': 'Sales',\n",
    "    'Support': 'Support'\n",
    "}\n",
    "\n",
    "cleaned_df['Department'] = cleaned_df['Department'].map(departments).fillna(cleaned_df['Department'])\n"
   ]
  },
  {
   "cell_type": "code",
   "execution_count": null,
   "id": "c89a1962",
   "metadata": {},
   "outputs": [],
   "source": [
    "# Handle salary noise\n",
    "cleaned_df['Salary'] = pd.to_numeric(cleaned_df['Salary'], errors='coerce')\n",
    "salary_mean = cleaned_df['Salary'].mean()\n",
    "salary_std = cleaned_df['Salary'].std()\n",
    "\n",
    "# Remove salaries that are outliers\n",
    "cleaned_df = cleaned_df[(cleaned_df['Salary'] > (salary_mean - 3*salary_std)) & (cleaned_df['Salary'] < (salary_mean + 3*salary_std))]\n"
   ]
  },
  {
   "cell_type": "code",
   "execution_count": null,
   "id": "39ea83ac",
   "metadata": {},
   "outputs": [],
   "source": [
    "cleaned_df.head()"
   ]
  },
  {
   "cell_type": "code",
   "execution_count": null,
   "id": "68eb4016",
   "metadata": {},
   "outputs": [],
   "source": [
    "# Save the cleaned data to an Excel file\n",
    "cleaned_df.to_excel('cleaned_data.xlsx', index=False)"
   ]
  },
  {
   "cell_type": "code",
   "execution_count": null,
   "id": "d8f4eadf",
   "metadata": {},
   "outputs": [],
   "source": []
  },
  {
   "cell_type": "code",
   "execution_count": null,
   "id": "761d8c3d",
   "metadata": {},
   "outputs": [],
   "source": []
  },
  {
   "cell_type": "code",
   "execution_count": null,
   "id": "0b3e5a98",
   "metadata": {},
   "outputs": [],
   "source": []
  },
  {
   "cell_type": "code",
   "execution_count": null,
   "id": "8e5b667e",
   "metadata": {},
   "outputs": [],
   "source": []
  },
  {
   "cell_type": "code",
   "execution_count": null,
   "id": "dac35c40",
   "metadata": {},
   "outputs": [],
   "source": []
  },
  {
   "cell_type": "code",
   "execution_count": null,
   "id": "e05e6283",
   "metadata": {},
   "outputs": [],
   "source": []
  },
  {
   "cell_type": "code",
   "execution_count": null,
   "id": "006bc494",
   "metadata": {},
   "outputs": [],
   "source": []
  },
  {
   "cell_type": "code",
   "execution_count": null,
   "id": "1e35d613",
   "metadata": {},
   "outputs": [],
   "source": []
  },
  {
   "cell_type": "code",
   "execution_count": null,
   "id": "3487ea37",
   "metadata": {},
   "outputs": [],
   "source": []
  },
  {
   "cell_type": "code",
   "execution_count": null,
   "id": "a860b4f8",
   "metadata": {},
   "outputs": [],
   "source": [
    "import re\n",
    "\n",
    "\n",
    "def is_valid_email(Email):\n",
    "    regex = r'^[a-zA-Z0-9._%+-]+@[a-zA-Z0-9.-]+\\.[a-zA-Z]{2,}$'\n",
    "    return re.match(regex, Email) is not None\n",
    "\n",
    "# Function to check for professional emails\n",
    "def is_professional_email(Email):\n",
    "    free_providers = ['gmail.com', 'yahoo.com', 'hotmail.com', 'outlook.com', 'aol.com']\n",
    "    domain = Email.split('@')[-1]\n",
    "    return domain not in free_providers\n",
    "\n",
    "# Apply the validation and filtering\n",
    "data_cleaned['valid_Email'] = data_cleaned['Email'].apply(is_valid_email)\n",
    "data_cleaned['professional_Email'] = data_cleaned['Email'].apply(is_professional_email)\n",
    "\n",
    "# Filter out invalid and non-professional emails\n",
    "cleaned_df = data_cleaned[data_cleaned['valid_email'] & data_cleaned['professional_email']].drop(columns=['valid_email', 'professional_email'])\n",
    "\n",
    "# Save the cleaned data to an Excel file\n",
    "cleaned_df.to_excel('cleaned_data.xlsx', index=False)\n"
   ]
  },
  {
   "cell_type": "code",
   "execution_count": null,
   "id": "842091e5",
   "metadata": {},
   "outputs": [],
   "source": []
  },
  {
   "cell_type": "code",
   "execution_count": null,
   "id": "db72421e",
   "metadata": {},
   "outputs": [],
   "source": []
  }
 ],
 "metadata": {
  "kernelspec": {
   "display_name": "Python 3 (ipykernel)",
   "language": "python",
   "name": "python3"
  },
  "language_info": {
   "codemirror_mode": {
    "name": "ipython",
    "version": 3
   },
   "file_extension": ".py",
   "mimetype": "text/x-python",
   "name": "python",
   "nbconvert_exporter": "python",
   "pygments_lexer": "ipython3",
   "version": "3.10.9"
  }
 },
 "nbformat": 4,
 "nbformat_minor": 5
}
